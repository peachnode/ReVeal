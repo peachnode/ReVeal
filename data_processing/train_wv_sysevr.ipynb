{
 "cells": [
  {
   "cell_type": "code",
   "metadata": {
    "ExecuteTime": {
     "end_time": "2025-10-14T12:50:21.204516Z",
     "start_time": "2025-10-14T12:50:20.843731Z"
    }
   },
   "source": [
    "import argparse\n",
    "from gensim.models import Word2Vec\n",
    "import json\n",
    "import os\n",
    "\n",
    "\n",
    "def train(data_paths, save_model_dir, model_name='li_et_al_wv', min_occ=1, embedding_size=100, epochs=5):\n",
    "    files = data_paths\n",
    "    sentences = []\n",
    "    for f in files:\n",
    "        data = json.load(open(f))\n",
    "        for e in data:\n",
    "            code = e['tokenized']\n",
    "            sentences.append([token.strip() for token in code.split()])\n",
    "    print(len(sentences))\n",
    "    wvmodel = Word2Vec(sentences, min_count=min_occ, workers=8, vector_size=embedding_size)\n",
    "    print('Embedding Size : ', wvmodel.vector_size)\n",
    "    for i in range(epochs):\n",
    "        wvmodel.train(sentences, total_examples=len(sentences), epochs=1)\n",
    "    if not os.path.exists(save_model_dir):\n",
    "        os.mkdir(save_model_dir)\n",
    "    save_file_path = os.path.join(save_model_dir, model_name)\n",
    "    wvmodel.save(save_file_path)\n",
    "\n"
   ],
   "outputs": [],
   "execution_count": 1
  },
  {
   "cell_type": "code",
   "metadata": {
    "ExecuteTime": {
     "end_time": "2025-10-14T12:50:21.600975Z",
     "start_time": "2025-10-14T12:50:21.209515Z"
    }
   },
   "source": [
    "import os\n",
    "\n",
    "project = os.getenv(\"PROJECT\")\n",
    "base_dir = \"../AIJON/data/\"\n",
    "print(f\"Training Word2Vec for project: {project}\")\n",
    "\n",
    "files = [os.path.join(base_dir, project, \"ggnn_input\", \"full_data_with_slices.json\")]\n",
    "save_dir = os.path.join(base_dir, project, \"Word2Vec\")\n",
    "\n",
    "train(files, save_dir)\n"
   ],
   "outputs": [
    {
     "name": "stdout",
     "output_type": "stream",
     "text": [
      "399\n",
      "Embedding Size :  100\n"
     ]
    }
   ],
   "execution_count": 2
  },
  {
   "cell_type": "code",
   "metadata": {
    "ExecuteTime": {
     "end_time": "2025-10-14T12:50:21.651715Z",
     "start_time": "2025-10-14T12:50:21.650163Z"
    }
   },
   "source": [],
   "outputs": [],
   "execution_count": null
  }
 ],
 "metadata": {
  "kernelspec": {
   "display_name": "Python 3",
   "language": "python",
   "name": "python3"
  },
  "language_info": {
   "codemirror_mode": {
    "name": "ipython",
    "version": 3
   },
   "file_extension": ".py",
   "mimetype": "text/x-python",
   "name": "python",
   "nbconvert_exporter": "python",
   "pygments_lexer": "ipython3",
   "version": "3.6.9"
  }
 },
 "nbformat": 4,
 "nbformat_minor": 2
}
